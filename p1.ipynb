{
 "cells": [
  {
   "cell_type": "code",
   "execution_count": 30,
   "metadata": {},
   "outputs": [
    {
     "name": "stdout",
     "output_type": "stream",
     "text": [
      "hello\n"
     ]
    }
   ],
   "source": [
    "print(\"hello\")"
   ]
  },
  {
   "cell_type": "code",
   "execution_count": 2,
   "metadata": {},
   "outputs": [
    {
     "name": "stdout",
     "output_type": "stream",
     "text": [
      "kiran\n",
      "10\n"
     ]
    }
   ],
   "source": [
    "print(\"kiran\")\n",
    "x=10\n",
    "print(x)"
   ]
  },
  {
   "cell_type": "code",
   "execution_count": 3,
   "metadata": {},
   "outputs": [
    {
     "name": "stdout",
     "output_type": "stream",
     "text": [
      "10 8\n"
     ]
    }
   ],
   "source": [
    "TEN =10\n",
    "ten = 8\n",
    "print(TEN,ten)\n"
   ]
  },
  {
   "cell_type": "code",
   "execution_count": 5,
   "metadata": {},
   "outputs": [
    {
     "data": {
      "text/plain": [
       "str"
      ]
     },
     "execution_count": 5,
     "metadata": {},
     "output_type": "execute_result"
    }
   ],
   "source": [
    "print = \"kiran\"\n",
    "type(print)"
   ]
  },
  {
   "cell_type": "code",
   "execution_count": 6,
   "metadata": {},
   "outputs": [
    {
     "data": {
      "text/plain": [
       "int"
      ]
     },
     "execution_count": 6,
     "metadata": {},
     "output_type": "execute_result"
    }
   ],
   "source": [
    "print =3\n",
    "type(3)"
   ]
  },
  {
   "cell_type": "code",
   "execution_count": 7,
   "metadata": {},
   "outputs": [],
   "source": [
    "del print"
   ]
  },
  {
   "cell_type": "code",
   "execution_count": 8,
   "metadata": {},
   "outputs": [
    {
     "name": "stdout",
     "output_type": "stream",
     "text": [
      "hi\n"
     ]
    }
   ],
   "source": [
    "print(\"hi\")"
   ]
  },
  {
   "cell_type": "code",
   "execution_count": 10,
   "metadata": {},
   "outputs": [
    {
     "name": "stdout",
     "output_type": "stream",
     "text": [
      "<class 'str'>\n",
      "<class 'int'>\n",
      "<class 'float'>\n",
      "<class 'str'>\n",
      "<class 'str'> <class 'int'> <class 'float'> <class 'str'>\n"
     ]
    }
   ],
   "source": [
    "a , b, c, d = \"a\" ,2,2.5, \"abcdef\"\n",
    "print(type(a))\n",
    "print(type(b))\n",
    "print(type(c))\n",
    "print(type(d))\n",
    "print(type(a),type(b),type(c),type(d))"
   ]
  },
  {
   "cell_type": "code",
   "execution_count": 14,
   "metadata": {},
   "outputs": [],
   "source": [
    "a,b,c =10 ,10 ,10"
   ]
  },
  {
   "cell_type": "code",
   "execution_count": 31,
   "metadata": {},
   "outputs": [
    {
     "name": "stdout",
     "output_type": "stream",
     "text": [
      "10 10 10\n"
     ]
    }
   ],
   "source": [
    "x=y=z=10\n",
    "print(x,y,z)"
   ]
  },
  {
   "cell_type": "code",
   "execution_count": 18,
   "metadata": {},
   "outputs": [],
   "source": [
    "FirstName ,MiddleName, LastName = \"kiran\" ,\" \", \"zapate\""
   ]
  },
  {
   "cell_type": "code",
   "execution_count": 19,
   "metadata": {},
   "outputs": [
    {
     "name": "stdout",
     "output_type": "stream",
     "text": [
      "kiran.zapate@gmail.com\n"
     ]
    }
   ],
   "source": [
    "print(f\"{FirstName}.{LastName}@gmail.com\")"
   ]
  },
  {
   "cell_type": "code",
   "execution_count": 2,
   "metadata": {},
   "outputs": [],
   "source": [
    "a = input(\"enter\")"
   ]
  },
  {
   "cell_type": "code",
   "execution_count": 4,
   "metadata": {},
   "outputs": [
    {
     "name": "stdout",
     "output_type": "stream",
     "text": [
      "k\n"
     ]
    }
   ],
   "source": [
    "print(\"k\")"
   ]
  },
  {
   "cell_type": "code",
   "execution_count": 6,
   "metadata": {},
   "outputs": [
    {
     "name": "stdout",
     "output_type": "stream",
     "text": [
      "4.0\n"
     ]
    }
   ],
   "source": [
    "a=float(input(\"enter\"))\n",
    "print(a)"
   ]
  },
  {
   "cell_type": "code",
   "execution_count": 17,
   "metadata": {},
   "outputs": [
    {
     "name": "stdout",
     "output_type": "stream",
     "text": [
      "a:9801376 b:9801408 c:9801248 d:9801792 e:9801792 r: 9801408 g:9801568\n"
     ]
    }
   ],
   "source": [
    "a=5\n",
    "b=6\n",
    "d=10\n",
    "e =18\n",
    "r=6\n",
    "g=a+b\n",
    "print(f\"a:{id(a)} b:{id(b)} c:{id(c)} d:{id(e)} e:{id(e)} r: {id(r)} g:{id(g)}\")"
   ]
  },
  {
   "cell_type": "code",
   "execution_count": 13,
   "metadata": {},
   "outputs": [
    {
     "name": "stdout",
     "output_type": "stream",
     "text": [
      "int con: 7 7.0 True 7\n",
      "float con 7.0 7 True 7.0\n",
      "str con 7 7 True 7.0\n",
      "bool con True 1 True 1.0\n"
     ]
    }
   ],
   "source": [
    "b= 7\n",
    "c=float(b)\n",
    "d=bool(b)\n",
    "e=str(b)\n",
    "print(\"int con:\",b,c,d,e)\n",
    "b= 7.0\n",
    "c=int(b)\n",
    "d=bool(b)\n",
    "e=str(b)\n",
    "print(\"float con\",b,c,d,e)\n",
    "b= \"7\"\n",
    "c=int(b)\n",
    "d=bool(b)\n",
    "e=float(b)\n",
    "print(\"str con\",b,c,d,e)\n",
    "b= True\n",
    "c=int(b)\n",
    "d=str(b)\n",
    "e=float(b)\n",
    "print(\"bool con\",b,c,d,e)\n",
    "\n"
   ]
  },
  {
   "cell_type": "code",
   "execution_count": 7,
   "metadata": {},
   "outputs": [
    {
     "name": "stdout",
     "output_type": "stream",
     "text": [
      "True\n"
     ]
    }
   ],
   "source": [
    "b=bool(input(\"enter\"))\n",
    "print(b)"
   ]
  },
  {
   "cell_type": "code",
   "execution_count": 5,
   "metadata": {},
   "outputs": [
    {
     "name": "stdout",
     "output_type": "stream",
     "text": [
      "<class 'int'> <class 'int'>\n"
     ]
    }
   ],
   "source": [
    "A = int(input(\"Enter value of A: \"))\n",
    "B = int(input(\"Enter value of B: \"))\n",
    "\n",
    "print(type(A), type(B))"
   ]
  },
  {
   "cell_type": "code",
   "execution_count": 27,
   "metadata": {},
   "outputs": [
    {
     "name": "stdout",
     "output_type": "stream",
     "text": [
      "Personal DEtail\n",
      "Name : Kiran zapate\n",
      "Place :Betul\n",
      "wight :52\n",
      "birth year : 1999\n",
      "Age : 22\n",
      "\n"
     ]
    }
   ],
   "source": [
    "Fullname,Place,wight, BirthDate ,current =\"Kiran zapate\", \"Betul\", 52,1999 ,2021\n",
    "Age = current-BirthDate\n",
    "print(f\"\"\"Personal DEtail\n",
    "Name : {Fullname}\n",
    "Place :{Place}\n",
    "wight :{wight}\n",
    "birth year : {BirthDate}\n",
    "Age : {Age}\n",
    "\"\"\"\n",
    "          )"
   ]
  }
 ],
 "metadata": {
  "kernelspec": {
   "display_name": "Python 3.8.10 64-bit",
   "language": "python",
   "name": "python3"
  },
  "language_info": {
   "codemirror_mode": {
    "name": "ipython",
    "version": 3
   },
   "file_extension": ".py",
   "mimetype": "text/x-python",
   "name": "python",
   "nbconvert_exporter": "python",
   "pygments_lexer": "ipython3",
   "version": "3.8.10"
  },
  "orig_nbformat": 4,
  "vscode": {
   "interpreter": {
    "hash": "916dbcbb3f70747c44a77c7bcd40155683ae19c65e1c03b4aa3499c5328201f1"
   }
  }
 },
 "nbformat": 4,
 "nbformat_minor": 2
}
