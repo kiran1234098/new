{
 "cells": [
  {
   "cell_type": "markdown",
   "metadata": {},
   "source": [
    "NameError\n",
    "NameError is raised when the variable is not yet defined."
   ]
  },
  {
   "cell_type": "code",
   "execution_count": 2,
   "metadata": {},
   "outputs": [
    {
     "ename": "NameError",
     "evalue": "name 'ten' is not defined",
     "output_type": "error",
     "traceback": [
      "\u001b[0;31m---------------------------------------------------------------------------\u001b[0m",
      "\u001b[0;31mNameError\u001b[0m                                 Traceback (most recent call last)",
      "Cell \u001b[0;32mIn[2], line 1\u001b[0m\n\u001b[0;32m----> 1\u001b[0m \u001b[38;5;28mprint\u001b[39m(\u001b[43mten\u001b[49m)\n",
      "\u001b[0;31mNameError\u001b[0m: name 'ten' is not defined"
     ]
    }
   ],
   "source": [
    "print(ten)"
   ]
  },
  {
   "cell_type": "markdown",
   "metadata": {},
   "source": [
    "TypeError\n",
    "TypeError is raised when a function or an operation is applied in an incorrect type."
   ]
  },
  {
   "cell_type": "code",
   "execution_count": 3,
   "metadata": {},
   "outputs": [
    {
     "ename": "TypeError",
     "evalue": "unsupported operand type(s) for /: 'str' and 'int'",
     "output_type": "error",
     "traceback": [
      "\u001b[0;31m---------------------------------------------------------------------------\u001b[0m",
      "\u001b[0;31mTypeError\u001b[0m                                 Traceback (most recent call last)",
      "Cell \u001b[0;32mIn[3], line 2\u001b[0m\n\u001b[1;32m      1\u001b[0m a\u001b[38;5;241m=\u001b[39m\u001b[38;5;28minput\u001b[39m(\u001b[38;5;124m\"\u001b[39m\u001b[38;5;124menter a number\u001b[39m\u001b[38;5;124m\"\u001b[39m)\n\u001b[0;32m----> 2\u001b[0m c\u001b[38;5;241m=\u001b[39m\u001b[43ma\u001b[49m\u001b[38;5;241;43m/\u001b[39;49m\u001b[38;5;241;43m2\u001b[39;49m\n",
      "\u001b[0;31mTypeError\u001b[0m: unsupported operand type(s) for /: 'str' and 'int'"
     ]
    }
   ],
   "source": [
    "a=input(\"enter a number\")\n",
    "c=a/2"
   ]
  },
  {
   "cell_type": "markdown",
   "metadata": {},
   "source": [
    "Syntax Errors\n",
    " Whenever we do not write the proper syntax of the python programming language (or any other language) then the python interpreter or parser throws an error known as a syntax error. The syntax error simply means that the python parser is unable to understand a line of code."
   ]
  },
  {
   "cell_type": "code",
   "execution_count": 5,
   "metadata": {},
   "outputs": [
    {
     "ename": "SyntaxError",
     "evalue": "invalid syntax (1597208406.py, line 1)",
     "output_type": "error",
     "traceback": [
      "\u001b[0;36m  Cell \u001b[0;32mIn[5], line 1\u001b[0;36m\u001b[0m\n\u001b[0;31m    int a\u001b[0m\n\u001b[0m        ^\u001b[0m\n\u001b[0;31mSyntaxError\u001b[0m\u001b[0;31m:\u001b[0m invalid syntax\n"
     ]
    }
   ],
   "source": [
    "int a"
   ]
  },
  {
   "cell_type": "markdown",
   "metadata": {},
   "source": [
    "ValueError \n",
    "ValueError is raised when a function is given the correct type of argument but with an improper value."
   ]
  },
  {
   "cell_type": "code",
   "execution_count": 15,
   "metadata": {},
   "outputs": [
    {
     "ename": "ValueError",
     "evalue": "invalid literal for int() with base 10: ''",
     "output_type": "error",
     "traceback": [
      "\u001b[0;31m---------------------------------------------------------------------------\u001b[0m",
      "\u001b[0;31mValueError\u001b[0m                                Traceback (most recent call last)",
      "Cell \u001b[0;32mIn[15], line 1\u001b[0m\n\u001b[0;32m----> 1\u001b[0m a\u001b[38;5;241m=\u001b[39m\u001b[38;5;28;43mint\u001b[39;49m\u001b[43m(\u001b[49m\u001b[38;5;124;43m\"\u001b[39;49m\u001b[38;5;124;43m\"\u001b[39;49m\u001b[43m)\u001b[49m\n",
      "\u001b[0;31mValueError\u001b[0m: invalid literal for int() with base 10: ''"
     ]
    }
   ],
   "source": [
    "a=int(\"\")\n"
   ]
  },
  {
   "cell_type": "markdown",
   "metadata": {},
   "source": [
    "2. Take input A and B and print their sum, mul, div, square of the nos."
   ]
  },
  {
   "cell_type": "code",
   "execution_count": 18,
   "metadata": {},
   "outputs": [
    {
     "name": "stdout",
     "output_type": "stream",
     "text": [
      " sum of two num is :6\n",
      "mul of two num is :8\n",
      "devide of two num is :2.0\n",
      "square of 1st num is :16\n",
      "square of 2nd num is :4\n"
     ]
    }
   ],
   "source": [
    "First = int(input(\"enter a number\"))\n",
    "Second = int(input(\"enter a number\"))\n",
    "c =First + Second\n",
    "d = First * Second\n",
    "e = First / Second\n",
    "f = First ** 2\n",
    "g = Second ** 2\n",
    "\n",
    "print(f\"\"\" sum of two num is :{c}\n",
    "mul of two num is :{d}\n",
    "devide of two num is :{e}\n",
    "square of 1st num is :{f}\n",
    "square of 2nd num is :{g}\"\"\")\n",
    "\n",
    "\n"
   ]
  },
  {
   "cell_type": "markdown",
   "metadata": {},
   "source": [
    "3. How many reserve keywords are there in python and why we should not use them as a variable name.\n",
    "\n",
    "False\tawait\telse\timport\tpass\n",
    "None\tbreak\texcept\tin\traise\n",
    "True\tclass\tfinally\tis\treturn\n",
    "and\tcontinue\tfor\tlambda\ttry\n",
    "as\tdef\tfrom\tnonlocal\twhile\n",
    "assert\tdel\tglobal\tnot\twith\n",
    "async\telif\tif\tor\tyield\n",
    "\n",
    "above are the keyword \n",
    "we should not use this as variable because\n",
    "these keywords have there meaning defined in the python library and if rewrite them it change the meaning and we got error my we try to use these keyword as actual meaning\n"
   ]
  },
  {
   "cell_type": "markdown",
   "metadata": {},
   "source": [
    "4.Create email ids with the user inputs. in the following format - lastname.firstname@gmail.com"
   ]
  },
  {
   "cell_type": "code",
   "execution_count": 19,
   "metadata": {},
   "outputs": [
    {
     "name": "stdout",
     "output_type": "stream",
     "text": [
      "puja.jhade@gmail.com\n"
     ]
    }
   ],
   "source": [
    "a = input(\"enter the last name\")\n",
    "b = input(\"enter the first name\")\n",
    "print(f\"{a}.{b}@gmail.com\")\n"
   ]
  },
  {
   "cell_type": "markdown",
   "metadata": {},
   "source": [
    "5.Try to print the following lines -\n",
    "Hi I'm Sunny\n",
    "My address is 22\\3\n",
    "I earn 20$ daily."
   ]
  },
  {
   "cell_type": "code",
   "execution_count": 20,
   "metadata": {},
   "outputs": [
    {
     "name": "stdout",
     "output_type": "stream",
     "text": [
      "Hi I'm Sunny\n",
      "My address is 22\u0003\n",
      "I earn 20$ daily.\n"
     ]
    }
   ],
   "source": [
    "print(\"\"\"Hi I'm Sunny\n",
    "My address is 22\\3\n",
    "I earn 20$ daily.\"\"\")"
   ]
  },
  {
   "cell_type": "markdown",
   "metadata": {},
   "source": [
    "6.Take user input (name, address, date of birth etc) to fill a form for your college and print their email IDs"
   ]
  },
  {
   "cell_type": "code",
   "execution_count": 30,
   "metadata": {},
   "outputs": [
    {
     "name": "stdout",
     "output_type": "stream",
     "text": [
      "puja.jhade@gmail.com\n"
     ]
    }
   ],
   "source": [
    "from datetime import datetime\n",
    "first_name = input(\"enter first name\")\n",
    "last_name = input(\"enter last name\")\n",
    "address = input(\"enter address\")\n",
    "b = input(\"enter birthdate in day/month/year format\")\n",
    "e=datetime.strptime(b, '%d/%m/%y')\n",
    "\n",
    "\n",
    "print(f\"{first_name}.{last_name}@gmail.com\")\n",
    "\n"
   ]
  },
  {
   "cell_type": "markdown",
   "metadata": {},
   "source": [
    "Convert the following -\n",
    "\"22.4\" into integer\n",
    "\"22\" into complex no."
   ]
  },
  {
   "cell_type": "code",
   "execution_count": 37,
   "metadata": {},
   "outputs": [
    {
     "ename": "ValueError",
     "evalue": "invalid literal for int() with base 10: '22.4'",
     "output_type": "error",
     "traceback": [
      "\u001b[0;31m---------------------------------------------------------------------------\u001b[0m",
      "\u001b[0;31mValueError\u001b[0m                                Traceback (most recent call last)",
      "Cell \u001b[0;32mIn[37], line 1\u001b[0m\n\u001b[0;32m----> 1\u001b[0m a\u001b[38;5;241m=\u001b[39m\u001b[38;5;28;43mint\u001b[39;49m\u001b[43m(\u001b[49m\u001b[38;5;124;43m\"\u001b[39;49m\u001b[38;5;124;43m22.4\u001b[39;49m\u001b[38;5;124;43m\"\u001b[39;49m\u001b[43m)\u001b[49m\n\u001b[1;32m      2\u001b[0m b\u001b[38;5;241m=\u001b[39m\u001b[38;5;28mcomplex\u001b[39m(\u001b[38;5;124m\"\u001b[39m\u001b[38;5;124m22\u001b[39m\u001b[38;5;124m\"\u001b[39m)\n\u001b[1;32m      3\u001b[0m \u001b[38;5;28mprint\u001b[39m(a,b)\n",
      "\u001b[0;31mValueError\u001b[0m: invalid literal for int() with base 10: '22.4'"
     ]
    }
   ],
   "source": [
    "a=int(\"22.4\")\n",
    "b=complex(\"22\")\n",
    "print(a,b)\n"
   ]
  }
 ],
 "metadata": {
  "kernelspec": {
   "display_name": "Python 3.8.10 64-bit",
   "language": "python",
   "name": "python3"
  },
  "language_info": {
   "codemirror_mode": {
    "name": "ipython",
    "version": 3
   },
   "file_extension": ".py",
   "mimetype": "text/x-python",
   "name": "python",
   "nbconvert_exporter": "python",
   "pygments_lexer": "ipython3",
   "version": "3.8.10"
  },
  "orig_nbformat": 4,
  "vscode": {
   "interpreter": {
    "hash": "e7370f93d1d0cde622a1f8e1c04877d8463912d04d973331ad4851f04de6915a"
   }
  }
 },
 "nbformat": 4,
 "nbformat_minor": 2
}
